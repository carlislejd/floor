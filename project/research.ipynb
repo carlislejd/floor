{
 "cells": [
  {
   "cell_type": "code",
   "execution_count": 8,
   "metadata": {},
   "outputs": [],
   "source": [
    "import pymongo\n",
    "import requests\n",
    "import pandas as pd\n",
    "\n",
    "from os import getenv\n",
    "from datetime import datetime\n",
    "from dotenv import load_dotenv\n",
    "\n",
    "from config import contract_collection, prices_collection\n",
    "from helper import contract_list\n",
    "\n",
    "\n",
    "load_dotenv()\n",
    "\n",
    "import warnings\n",
    "warnings.filterwarnings('ignore')\n",
    "\n",
    "pd.options.display.float_format = '{:,.2f}'.format\n",
    "pd.set_option('display.max_columns', None)"
   ]
  },
  {
   "cell_type": "code",
   "execution_count": 9,
   "metadata": {},
   "outputs": [],
   "source": [
    "def get_collection_activity(metadata, limit, collection=None, collectionssetid=None, community=None, continuation=None):\n",
    "    url = 'https://api.reservoir.tools/'\n",
    "    end_point = 'collections/activity/v5'\n",
    "    headers = {'accept': '*/*', 'x-api-key': f\"{getenv('RESERVOIR')}\"}\n",
    "    if community == None:\n",
    "        r = requests.get(url + end_point, params=f'?sortBy=eventTimestamp&includeMetadata={metadata}&limit={limit}', headers=headers)\n",
    "    else:\n",
    "        r = requests.get(url + end_point, params=f'?sortBy=eventTimestamp&includeMetadata={metadata}&limit={limit}&community={community}', headers=headers)\n",
    "    data = r.json()\n",
    "    return data"
   ]
  },
  {
   "cell_type": "code",
   "execution_count": 10,
   "metadata": {},
   "outputs": [],
   "source": [
    "contract_db = contract_list()\n",
    "\n",
    "test = get_collection_activity(True, 20, community='artblocks')\n",
    "new_bids = []\n",
    "for item in test['activities']:\n",
    "    if item['type'] == 'bid':\n",
    "        if item['order']['criteria']['kind'] == 'collection':\n",
    "            actions = {}\n",
    "            actions['contract'] = item['contract']\n",
    "            actions['collection_name'] = item['collection']['collectionName']\n",
    "            actions['collection_id'] = item['order']['criteria']['data']['collection']['id']\n",
    "            if item['order']['criteria']['data']['collection']['id'] not in contract_db:\n",
    "                new_bids.append(actions)\n",
    "\n",
    "if new_bids:               \n",
    "    contract_collection().insert_many(new_bids)\n",
    "\n",
    "contract_db = contract_list()\n",
    "df = pd.DataFrame(contract_db)"
   ]
  },
  {
   "cell_type": "code",
   "execution_count": 11,
   "metadata": {},
   "outputs": [],
   "source": [
    "def get_collection_info(limit, topbid, normalize, c_id=None):\n",
    "    url = 'https://api.reservoir.tools/'\n",
    "    end_point = 'collections/v5'\n",
    "    headers = {'accept': '*/*', 'x-api-key': f\"{getenv('RESERVOIR')}\"}\n",
    "    r = requests.get(url + end_point, params=f'id={c_id}&includeTopBid={topbid}&normalizeRoyalties={normalize}&sortBy=allTimeVolume&limit={limit}', headers=headers)\n",
    "    data = r.json()\n",
    "    return data"
   ]
  },
  {
   "cell_type": "code",
   "execution_count": 20,
   "metadata": {},
   "outputs": [],
   "source": [
    "new_bids = []\n",
    "for c in contract_db:\n",
    "    collections = get_collection_info(1, True, False, c_id=c)\n",
    "    for collection in collections['collections']:\n",
    "        project = {}\n",
    "        project['Collection'] = collection['name']\n",
    "        project['7day Volume'] = round(collection['volume']['7day'], 2)\n",
    "        project['Lowest Floor Price'] = f\"{str(collection['floorAsk']['sourceDomain'])} : {round(collection['floorAsk']['price']['amount']['decimal'], 3)} {collection['floorAsk']['price']['currency']['symbol']}\"\n",
    "        try:\n",
    "            project['Highest Collection Offer'] = f\"{str(collection['topBid']['sourceDomain'])} : {round(collection['topBid']['price']['amount']['decimal'], 3)} {collection['topBid']['price']['currency']['symbol']}\"\n",
    "            project['Spread'] = f\"{round(((collection['floorAsk']['price']['amount']['decimal'] - collection['topBid']['price']['amount']['decimal']) / collection['floorAsk']['price']['amount']['decimal']) * 100, 2)}%\"\n",
    "        except TypeError:\n",
    "            project['Highest Collection Offer'] = 'None'\n",
    "            project['Spread'] = 'None'\n",
    "        new_bids.append(project)\n",
    "    \n",
    "\n",
    "df = pd.DataFrame(new_bids)    "
   ]
  },
  {
   "cell_type": "code",
   "execution_count": 21,
   "metadata": {},
   "outputs": [
    {
     "data": {
      "text/html": [
       "<div>\n",
       "<style scoped>\n",
       "    .dataframe tbody tr th:only-of-type {\n",
       "        vertical-align: middle;\n",
       "    }\n",
       "\n",
       "    .dataframe tbody tr th {\n",
       "        vertical-align: top;\n",
       "    }\n",
       "\n",
       "    .dataframe thead th {\n",
       "        text-align: right;\n",
       "    }\n",
       "</style>\n",
       "<table border=\"1\" class=\"dataframe\">\n",
       "  <thead>\n",
       "    <tr style=\"text-align: right;\">\n",
       "      <th></th>\n",
       "      <th>Collection</th>\n",
       "      <th>7day Volume</th>\n",
       "      <th>Lowest Floor Price</th>\n",
       "      <th>Highest Collection Offer</th>\n",
       "      <th>Spread</th>\n",
       "    </tr>\n",
       "  </thead>\n",
       "  <tbody>\n",
       "    <tr>\n",
       "      <th>0</th>\n",
       "      <td>Low Tide by Artem Verkhovskiy x Andy Shaw</td>\n",
       "      <td>0.00</td>\n",
       "      <td>opensea.io : 0.199 ETH</td>\n",
       "      <td>opensea.io : 0.07 WETH</td>\n",
       "      <td>64.82%</td>\n",
       "    </tr>\n",
       "    <tr>\n",
       "      <th>1</th>\n",
       "      <td>CryptoGodKing by Steve Pikelny</td>\n",
       "      <td>1.21</td>\n",
       "      <td>sansa.xyz : 0.8 ETH</td>\n",
       "      <td>opensea.io : 0.4 WETH</td>\n",
       "      <td>50.0%</td>\n",
       "    </tr>\n",
       "    <tr>\n",
       "      <th>2</th>\n",
       "      <td>celestial cyclones by hideo</td>\n",
       "      <td>1.18</td>\n",
       "      <td>opensea.io : 0.3 ETH</td>\n",
       "      <td>opensea.io : 0.111 WETH</td>\n",
       "      <td>63.0%</td>\n",
       "    </tr>\n",
       "    <tr>\n",
       "      <th>3</th>\n",
       "      <td>Antennas by gcrll</td>\n",
       "      <td>0.37</td>\n",
       "      <td>opensea.io : 0.25 ETH</td>\n",
       "      <td>opensea.io : 0.1 WETH</td>\n",
       "      <td>60.0%</td>\n",
       "    </tr>\n",
       "    <tr>\n",
       "      <th>4</th>\n",
       "      <td>Transitions by Jason Ting x Matt Bilfield</td>\n",
       "      <td>3.00</td>\n",
       "      <td>opensea.io : 0.08 ETH</td>\n",
       "      <td>opensea.io : 0.057 WETH</td>\n",
       "      <td>28.44%</td>\n",
       "    </tr>\n",
       "    <tr>\n",
       "      <th>...</th>\n",
       "      <td>...</td>\n",
       "      <td>...</td>\n",
       "      <td>...</td>\n",
       "      <td>...</td>\n",
       "      <td>...</td>\n",
       "    </tr>\n",
       "    <tr>\n",
       "      <th>168</th>\n",
       "      <td>LeWitt Generator Generator by Mitchell F. Chan</td>\n",
       "      <td>1.65</td>\n",
       "      <td>opensea.io : 0.69 ETH</td>\n",
       "      <td>opensea.io : 0.33 WETH</td>\n",
       "      <td>52.17%</td>\n",
       "    </tr>\n",
       "    <tr>\n",
       "      <th>169</th>\n",
       "      <td>Paths by Darien Brito</td>\n",
       "      <td>0.63</td>\n",
       "      <td>opensea.io : 0.24 ETH</td>\n",
       "      <td>opensea.io : 0.13 WETH</td>\n",
       "      <td>45.83%</td>\n",
       "    </tr>\n",
       "    <tr>\n",
       "      <th>170</th>\n",
       "      <td>Quantum Collapses by Insigħt</td>\n",
       "      <td>0.00</td>\n",
       "      <td>opensea.io : 0.369 ETH</td>\n",
       "      <td>opensea.io : 0.16 WETH</td>\n",
       "      <td>56.64%</td>\n",
       "    </tr>\n",
       "    <tr>\n",
       "      <th>171</th>\n",
       "      <td>InC by hex6c</td>\n",
       "      <td>0.00</td>\n",
       "      <td>opensea.io : 0.18 ETH</td>\n",
       "      <td>opensea.io : 0.02 WETH</td>\n",
       "      <td>88.89%</td>\n",
       "    </tr>\n",
       "    <tr>\n",
       "      <th>172</th>\n",
       "      <td>Alien DNA by Shvembldr</td>\n",
       "      <td>4.39</td>\n",
       "      <td>opensea.io : 1 ETH</td>\n",
       "      <td>opensea.io : 0.513 WETH</td>\n",
       "      <td>48.7%</td>\n",
       "    </tr>\n",
       "  </tbody>\n",
       "</table>\n",
       "<p>173 rows × 5 columns</p>\n",
       "</div>"
      ],
      "text/plain": [
       "                                         Collection  7day Volume  \\\n",
       "0         Low Tide by Artem Verkhovskiy x Andy Shaw         0.00   \n",
       "1                    CryptoGodKing by Steve Pikelny         1.21   \n",
       "2                       celestial cyclones by hideo         1.18   \n",
       "3                                 Antennas by gcrll         0.37   \n",
       "4         Transitions by Jason Ting x Matt Bilfield         3.00   \n",
       "..                                              ...          ...   \n",
       "168  LeWitt Generator Generator by Mitchell F. Chan         1.65   \n",
       "169                           Paths by Darien Brito         0.63   \n",
       "170                    Quantum Collapses by Insigħt         0.00   \n",
       "171                                    InC by hex6c         0.00   \n",
       "172                          Alien DNA by Shvembldr         4.39   \n",
       "\n",
       "         Lowest Floor Price Highest Collection Offer  Spread  \n",
       "0    opensea.io : 0.199 ETH   opensea.io : 0.07 WETH  64.82%  \n",
       "1       sansa.xyz : 0.8 ETH    opensea.io : 0.4 WETH   50.0%  \n",
       "2      opensea.io : 0.3 ETH  opensea.io : 0.111 WETH   63.0%  \n",
       "3     opensea.io : 0.25 ETH    opensea.io : 0.1 WETH   60.0%  \n",
       "4     opensea.io : 0.08 ETH  opensea.io : 0.057 WETH  28.44%  \n",
       "..                      ...                      ...     ...  \n",
       "168   opensea.io : 0.69 ETH   opensea.io : 0.33 WETH  52.17%  \n",
       "169   opensea.io : 0.24 ETH   opensea.io : 0.13 WETH  45.83%  \n",
       "170  opensea.io : 0.369 ETH   opensea.io : 0.16 WETH  56.64%  \n",
       "171   opensea.io : 0.18 ETH   opensea.io : 0.02 WETH  88.89%  \n",
       "172      opensea.io : 1 ETH  opensea.io : 0.513 WETH   48.7%  \n",
       "\n",
       "[173 rows x 5 columns]"
      ]
     },
     "execution_count": 21,
     "metadata": {},
     "output_type": "execute_result"
    }
   ],
   "source": [
    "df"
   ]
  },
  {
   "cell_type": "code",
   "execution_count": 13,
   "metadata": {},
   "outputs": [
    {
     "data": {
      "text/plain": [
       "{'collections': [{'id': '0xa7d8d9ef8d8ce8992df33d8b8cf4aebabd5bd270:294000000:294999999',\n",
       "   'slug': 'alien-dna-by-shvembldr',\n",
       "   'createdAt': '2022-04-05T17:44:25.130Z',\n",
       "   'name': 'Alien DNA by Shvembldr',\n",
       "   'image': 'https://media.artblocks.io/294000000.png',\n",
       "   'banner': None,\n",
       "   'discordUrl': None,\n",
       "   'externalUrl': 'https://www.shvembldr.com',\n",
       "   'twitterUsername': None,\n",
       "   'openseaVerificationStatus': None,\n",
       "   'description': 'In the year 3075 of the Second Nuclear Age, a laboratory of an unknown race of aliens was discovered on the planet Vtolmr while drilling a well of molecular oil. Its presumed purpose is to study genetic mutations of races from neighboring planets. During the laboratory investigation, 512 silicon impressions with DNA of different alien species were extracted. Modern methods of quantum analysis do not allow the deciphering of the data obtained. At this point, their value is purely aesthetic. But that may change in time.\\n\\nPress 1 to 9 - change the pixel density\\nPress \"s\" - save the image',\n",
       "   'sampleImages': ['https://api.reservoir.tools/assets/v1?asset=36109e01a0f463f89d0054dfb865c355814e73000779cff19c745153c0940b62f0f132ba91e3d163ea4bc7c04558f3bc01c1bbc0c6acbec029a4168c972a59da5e8c886d09cb907036b724db704a220096278d2be6e1e6296f28b41ce303ee7408b4aa8a67ebf6e07e6613cd5d3106baa51ea6bc03f294fb400c1d3f82c3dad4ad4a58e6a1d982cfd24da6b19e6c305a',\n",
       "    'https://api.reservoir.tools/assets/v1?asset=36109e01a0f463f89d0054dfb865c355814e73000779cff19c745153c0940b628859eedaf8c63c7373559eef40fdf500c3bc16f2f5c500b8dd20b7b494f9a3e3a1764fcd323cfd9e3e521ac4b944efda0459c6268fe56d8b9c50a606e1086971f2b03c2a6927561a0d51c9e21a3f2713b36e1b1e195c52ca36b5c52521f1488acb5aa27d9662abe9bb9da750bc95f3af',\n",
       "    'https://api.reservoir.tools/assets/v1?asset=36109e01a0f463f89d0054dfb865c355814e73000779cff19c745153c0940b623b06732c9e316b24a88a37c7b0ea29b2f0ad9f028bb10d7b0833e61c3308cdadde54b74e2d1dcbffc7baf6a88394a4ea8cef3c646f30fa9d2f99c5cb8a6d12e42eae4d3f8a2bbae06c1b153ef77d460509e08d4100edcb5c1350de66132adba4b73b4162dbe778f95bad3df77c2f1a4a',\n",
       "    'https://api.reservoir.tools/assets/v1?asset=36109e01a0f463f89d0054dfb865c355814e73000779cff19c745153c0940b62cb2346785ee8921ab304acd0feb4bc8ac77d1d0e262d16eee92bb66b0d75cfcc5908221bdeed389043510bba784ea63aac24e61da678acf82f3826e7e68fe9352d2bc304a1b8c15757c353dcbc165d6616ffc4616b7109ae5b71c981c97aecc58639da063e8999031d5129e1e07ababa'],\n",
       "   'tokenCount': '512',\n",
       "   'onSaleCount': '69',\n",
       "   'primaryContract': '0xa7d8d9ef8d8ce8992df33d8b8cf4aebabd5bd270',\n",
       "   'tokenSetId': 'range:0xa7d8d9ef8d8ce8992df33d8b8cf4aebabd5bd270:294000000:294999999',\n",
       "   'royalties': {'bps': 750,\n",
       "    'recipient': '0x6c093fe8bc59e1e0cae2ec10f0b717d3d182056b'},\n",
       "   'lastBuy': {'value': None, 'timestamp': None},\n",
       "   'floorAsk': {'id': '0xdc7047c90bc9181faad54559b2b8f1b629fad5443aa06591cfd22199c5dc0fd0',\n",
       "    'sourceDomain': 'opensea.io',\n",
       "    'price': {'currency': {'contract': '0x0000000000000000000000000000000000000000',\n",
       "      'name': 'Ether',\n",
       "      'symbol': 'ETH',\n",
       "      'decimals': 18},\n",
       "     'amount': {'raw': '999999999999000000',\n",
       "      'decimal': 1,\n",
       "      'usd': 1319.41301,\n",
       "      'native': 1}},\n",
       "    'maker': '0x17920c7ee7701fe58d8eb4f5f57ac3947561550e',\n",
       "    'validFrom': 1670952260,\n",
       "    'validUntil': 1672936550,\n",
       "    'token': {'contract': '0xa7d8d9ef8d8ce8992df33d8b8cf4aebabd5bd270',\n",
       "     'tokenId': '294000080',\n",
       "     'name': 'Alien DNA #80',\n",
       "     'image': 'https://api.reservoir.tools/assets/v1?asset=fcd08d82e6950c73f7a2f92efa0d2ff7ff01c52201d8affeaee9669d85719411c90786b0f2a47fca4587cfa3f64cfdc9'}},\n",
       "   'topBid': {'id': '0x468846b446b16ed2d79e089b318ea2d330d83f43e2f8d7774879ae101522c8c8',\n",
       "    'sourceDomain': 'opensea.io',\n",
       "    'price': {'currency': {'contract': '0xc02aaa39b223fe8d0a0e5c4f27ead9083c756cc2',\n",
       "      'name': 'Wrapped Ether',\n",
       "      'symbol': 'WETH',\n",
       "      'decimals': 18},\n",
       "     'amount': {'raw': '512000000000000000',\n",
       "      'decimal': 0.512,\n",
       "      'usd': 674.97886,\n",
       "      'native': 0.512},\n",
       "     'netAmount': {'raw': '460800000000000000',\n",
       "      'decimal': 0.4608,\n",
       "      'usd': 607.48097,\n",
       "      'native': 0.4608}},\n",
       "    'maker': '0x372fee954c8b6c8b2838b2eba8bf331b9821c5dc',\n",
       "    'validFrom': 1671064551,\n",
       "    'validUntil': 1671150940},\n",
       "   'rank': {'1day': None, '7day': 1000, '30day': 2077, 'allTime': 2225},\n",
       "   'volume': {'1day': 0,\n",
       "    '7day': 4.3896,\n",
       "    '30day': 5.5896,\n",
       "    'allTime': 434.14154},\n",
       "   'volumeChange': {'1day': 0, '7day': 0, '30day': 0.4473111395646607},\n",
       "   'floorSale': {'1day': 1, '7day': 0.55, '30day': 0.77},\n",
       "   'floorSaleChange': {'1day': 0.999999999999,\n",
       "    '7day': 1.81818181818,\n",
       "    '30day': 1.2987012987000002},\n",
       "   'collectionBidSupported': True}],\n",
       " 'continuation': 'NDM0MTQxNTM4MjQ5Mzg5NjczNTIyXzB4YTdkOGQ5ZWY4ZDhjZTg5OTJkZjMzZDhiOGNmNGFlYmFiZDViZDI3MDoyOTQwMDAwMDA6Mjk0OTk5OTk5'}"
      ]
     },
     "execution_count": 13,
     "metadata": {},
     "output_type": "execute_result"
    }
   ],
   "source": [
    "collections"
   ]
  },
  {
   "cell_type": "code",
   "execution_count": null,
   "metadata": {},
   "outputs": [],
   "source": [
    "df[~df['Spread'].isin(['None'])].sort_values(by='Collection', ascending=True).to_csv('spread.csv', index=False)"
   ]
  },
  {
   "cell_type": "code",
   "execution_count": null,
   "metadata": {},
   "outputs": [],
   "source": [
    "prices_db = prices_collection()"
   ]
  },
  {
   "cell_type": "code",
   "execution_count": null,
   "metadata": {},
   "outputs": [],
   "source": [
    "pd.DataFrame(list(prices_db.find().sort('7day Volume', pymongo.DESCENDING))).drop('_id', axis=1)"
   ]
  },
  {
   "cell_type": "code",
   "execution_count": null,
   "metadata": {},
   "outputs": [],
   "source": [
    "get_activity(False, 20, 'desc')"
   ]
  },
  {
   "cell_type": "code",
   "execution_count": null,
   "metadata": {},
   "outputs": [],
   "source": [
    "url = 'https://api.reservoir.tools/'\n",
    "\n",
    "response = requests.get(url, json={'limit': 20, 'includeMetadata': False}, headers=headers)\n",
    "\n",
    "print(response.url)\n",
    "test = response.json()"
   ]
  },
  {
   "cell_type": "code",
   "execution_count": null,
   "metadata": {},
   "outputs": [],
   "source": [
    "url = \"https://api.reservoir.tools/orders/bids/v5?community=artblocks&includeCriteriaMetadata=false&includeRawData=false&normalizeRoyalties=false&sortBy=createdAt&limit=50\"\n",
    "headers = {\n",
    "    \"accept\": \"*/*\",\n",
    "    \"x-api-key\": \"demo-api-key\"\n",
    "}"
   ]
  },
  {
   "cell_type": "code",
   "execution_count": null,
   "metadata": {},
   "outputs": [],
   "source": [
    "def mongo_collection():\n",
    "    client = pymongo.MongoClient(getenv('MONGO'))\n",
    "    db = client.nonfungible \n",
    "    return db.globalcontracts"
   ]
  },
  {
   "cell_type": "code",
   "execution_count": null,
   "metadata": {},
   "outputs": [],
   "source": [
    "db = mongo_collection()\n",
    "\n",
    "db.find_one()"
   ]
  },
  {
   "cell_type": "code",
   "execution_count": null,
   "metadata": {},
   "outputs": [],
   "source": [
    "start_block = init_collection.find({'blockchain': 'flow'}).sort('blockNumber', -1).limit(1).next()['blockNumber'] - 25"
   ]
  }
 ],
 "metadata": {
  "kernelspec": {
   "display_name": "Python 3.10.0 64-bit",
   "language": "python",
   "name": "python3"
  },
  "language_info": {
   "codemirror_mode": {
    "name": "ipython",
    "version": 3
   },
   "file_extension": ".py",
   "mimetype": "text/x-python",
   "name": "python",
   "nbconvert_exporter": "python",
   "pygments_lexer": "ipython3",
   "version": "3.10.0"
  },
  "orig_nbformat": 4,
  "vscode": {
   "interpreter": {
    "hash": "e593ac106456af50ce7af38f9671c411b49d6cd90f9b885e167f0f594e09038c"
   }
  }
 },
 "nbformat": 4,
 "nbformat_minor": 2
}
