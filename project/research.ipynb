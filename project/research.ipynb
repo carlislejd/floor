{
 "cells": [
  {
   "cell_type": "code",
   "execution_count": null,
   "metadata": {},
   "outputs": [],
   "source": [
    "import pymongo\n",
    "import requests\n",
    "import pandas as pd\n",
    "\n",
    "from os import getenv\n",
    "from datetime import datetime\n",
    "from dotenv import load_dotenv\n",
    "\n",
    "from config import contract_collection, prices_collection\n",
    "from helper import contract_list\n",
    "\n",
    "\n",
    "load_dotenv()\n",
    "\n",
    "import warnings\n",
    "warnings.filterwarnings('ignore')\n",
    "\n",
    "pd.options.display.float_format = '{:,.2f}'.format\n",
    "pd.set_option('display.max_columns', None)"
   ]
  },
  {
   "cell_type": "code",
   "execution_count": null,
   "metadata": {},
   "outputs": [],
   "source": [
    "def get_collection_activity(metadata, limit, collection=None, collectionssetid=None, community=None, continuation=None):\n",
    "    url = 'https://api.reservoir.tools/'\n",
    "    end_point = 'collections/activity/v5'\n",
    "    headers = {'accept': '*/*', 'x-api-key': f\"{getenv('RESERVOIR')}\"}\n",
    "    if community == None:\n",
    "        r = requests.get(url + end_point, params=f'?sortBy=eventTimestamp&includeMetadata={metadata}&limit={limit}', headers=headers)\n",
    "    else:\n",
    "        r = requests.get(url + end_point, params=f'?sortBy=eventTimestamp&includeMetadata={metadata}&limit={limit}&community={community}', headers=headers)\n",
    "    data = r.json()\n",
    "    return data"
   ]
  },
  {
   "cell_type": "code",
   "execution_count": null,
   "metadata": {},
   "outputs": [],
   "source": [
    "contract_db = contract_list()\n",
    "\n",
    "test = get_collection_activity(True, 20, community='artblocks')\n",
    "new_bids = []\n",
    "for item in test['activities']:\n",
    "    if item['type'] == 'bid':\n",
    "        if item['order']['criteria']['kind'] == 'collection':\n",
    "            actions = {}\n",
    "            actions['contract'] = item['contract']\n",
    "            actions['collection_name'] = item['collection']['collectionName']\n",
    "            actions['collection_id'] = item['order']['criteria']['data']['collection']['id']\n",
    "            if item['order']['criteria']['data']['collection']['id'] not in contract_db:\n",
    "                new_bids.append(actions)\n",
    "\n",
    "if new_bids:               \n",
    "    contract_collection().insert_many(new_bids)\n",
    "\n",
    "contract_db = contract_list()\n",
    "df = pd.DataFrame(contract_db)"
   ]
  },
  {
   "cell_type": "code",
   "execution_count": null,
   "metadata": {},
   "outputs": [],
   "source": [
    "def get_collection_info(limit, topbid, normalize, c_id=None):\n",
    "    url = 'https://api.reservoir.tools/'\n",
    "    end_point = 'collections/v5'\n",
    "    headers = {'accept': '*/*', 'x-api-key': f\"{getenv('RESERVOIR')}\"}\n",
    "    r = requests.get(url + end_point, params=f'id={c_id}&includeTopBid={topbid}&normalizeRoyalties={normalize}&sortBy=allTimeVolume&limit={limit}', headers=headers)\n",
    "    data = r.json()\n",
    "    return data"
   ]
  },
  {
   "cell_type": "code",
   "execution_count": null,
   "metadata": {},
   "outputs": [],
   "source": [
    "new_bids = []\n",
    "for c in contract_db:\n",
    "    collections = get_collection_info(1, True, False, c_id=c)\n",
    "    for collection in collections['collections']:\n",
    "        project = {}\n",
    "        id = collection['id']\n",
    "        project['Collection'] = collection['name']\n",
    "        contract = collection['primaryContract']\n",
    "        token_range = collection['tokenSetId'].split(':')[2:]\n",
    "        project['7day Volume'] = round(collection['volume']['7day'], 2)\n",
    "        project['Lowest Floor Price'] = f\"{str(collection['floorAsk']['sourceDomain'])} : {round(collection['floorAsk']['price']['amount']['decimal'], 3)}\"\n",
    "        try:\n",
    "            project['Highest Collection Offer'] = f\"{str(collection['topBid']['sourceDomain'])} : {round(collection['topBid']['price']['amount']['decimal'], 3)}\"\n",
    "            project['Spread'] = round(float((collection['floorAsk']['price']['amount']['decimal']) - float(collection['topBid']['price']['amount']['decimal'])) / float(collection['floorAsk']['price']['amount']['decimal']), 2)\n",
    "        except TypeError:\n",
    "            project['Highest Collection Offer'] = 'None'\n",
    "            project['Spread'] = 'None'\n",
    "        new_bids.append(project)\n",
    "    \n",
    "\n",
    "df = pd.DataFrame(new_bids)    "
   ]
  },
  {
   "cell_type": "code",
   "execution_count": null,
   "metadata": {},
   "outputs": [],
   "source": [
    "df[~df['Spread'].isin(['None'])].sort_values(by='Collection', ascending=True).to_csv('spread.csv', index=False)"
   ]
  },
  {
   "cell_type": "code",
   "execution_count": null,
   "metadata": {},
   "outputs": [],
   "source": [
    "prices_db = prices_collection()"
   ]
  },
  {
   "cell_type": "code",
   "execution_count": null,
   "metadata": {},
   "outputs": [],
   "source": [
    "pd.DataFrame(list(prices_db.find().sort('7day Volume', pymongo.DESCENDING))).drop('_id', axis=1)"
   ]
  },
  {
   "cell_type": "code",
   "execution_count": null,
   "metadata": {},
   "outputs": [],
   "source": [
    "get_activity(False, 20, 'desc')"
   ]
  },
  {
   "cell_type": "code",
   "execution_count": null,
   "metadata": {},
   "outputs": [],
   "source": [
    "url = 'https://api.reservoir.tools/'\n",
    "\n",
    "response = requests.get(url, json={'limit': 20, 'includeMetadata': False}, headers=headers)\n",
    "\n",
    "print(response.url)\n",
    "test = response.json()"
   ]
  },
  {
   "cell_type": "code",
   "execution_count": null,
   "metadata": {},
   "outputs": [],
   "source": [
    "url = \"https://api.reservoir.tools/orders/bids/v5?community=artblocks&includeCriteriaMetadata=false&includeRawData=false&normalizeRoyalties=false&sortBy=createdAt&limit=50\"\n",
    "headers = {\n",
    "    \"accept\": \"*/*\",\n",
    "    \"x-api-key\": \"demo-api-key\"\n",
    "}"
   ]
  },
  {
   "cell_type": "code",
   "execution_count": null,
   "metadata": {},
   "outputs": [],
   "source": [
    "def mongo_collection():\n",
    "    client = pymongo.MongoClient(getenv('MONGO'))\n",
    "    db = client.nonfungible \n",
    "    return db.globalcontracts"
   ]
  },
  {
   "cell_type": "code",
   "execution_count": null,
   "metadata": {},
   "outputs": [],
   "source": [
    "db = mongo_collection()\n",
    "\n",
    "db.find_one()"
   ]
  },
  {
   "cell_type": "code",
   "execution_count": null,
   "metadata": {},
   "outputs": [],
   "source": [
    "start_block = init_collection.find({'blockchain': 'flow'}).sort('blockNumber', -1).limit(1).next()['blockNumber'] - 25"
   ]
  }
 ],
 "metadata": {
  "kernelspec": {
   "display_name": "Python 3.10.0 64-bit",
   "language": "python",
   "name": "python3"
  },
  "language_info": {
   "codemirror_mode": {
    "name": "ipython",
    "version": 3
   },
   "file_extension": ".py",
   "mimetype": "text/x-python",
   "name": "python",
   "nbconvert_exporter": "python",
   "pygments_lexer": "ipython3",
   "version": "3.10.0"
  },
  "orig_nbformat": 4,
  "vscode": {
   "interpreter": {
    "hash": "e593ac106456af50ce7af38f9671c411b49d6cd90f9b885e167f0f594e09038c"
   }
  }
 },
 "nbformat": 4,
 "nbformat_minor": 2
}
